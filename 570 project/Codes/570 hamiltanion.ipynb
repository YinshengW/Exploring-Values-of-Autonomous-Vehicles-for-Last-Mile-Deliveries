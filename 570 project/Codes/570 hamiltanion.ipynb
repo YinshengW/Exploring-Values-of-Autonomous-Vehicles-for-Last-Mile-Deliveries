{
 "cells": [
  {
   "cell_type": "code",
   "execution_count": 38,
   "metadata": {},
   "outputs": [],
   "source": [
    "import time\n",
    "\n",
    "EMPTY_SPACE_SYMBOLS = '.'\n",
    "STARTING_POINT_SYMBOLS = 'Ss'\n",
    "ENDING_POINT_SYMBOLS = 'Ee'\n",
    "OBSTACLE_SYMBOL = 'X'\n",
    "DIRS = [(-1, 0), (1, 0), (0, 1), (0, -1)]\n",
    "\n",
    "class HamiltonSolver:\n",
    "    \"\"\"Solver for a Hamilton Path problem.\"\"\"\n",
    "\n",
    "    def __init__(self, grid):\n",
    "        \"\"\"Initialize the HamiltonSolver instance from a grid, which must be a\n",
    "        list of strings, one for each row of the grid.\n",
    "\n",
    "        \"\"\"\n",
    "        self.grid = grid\n",
    "        self.h = h = len(grid)\n",
    "        self.w = w = len(grid[0])\n",
    "        \n",
    "        if any(len(row) != w for row in grid):\n",
    "            raise ValueError(\"Grid is not rectangular\")\n",
    "        \n",
    "        \n",
    "        self.start = None\n",
    "        self.end = None\n",
    "        self.legal = set()\n",
    "        \n",
    "        for r, row in enumerate(grid):\n",
    "            for c, item in enumerate(row):\n",
    "                if item in STARTING_POINT_SYMBOLS:\n",
    "                    if self.start is not None:\n",
    "                        raise ValueError(\"Multiple starting points\")\n",
    "                    self.start = (r, c)\n",
    "                \n",
    "                elif item in EMPTY_SPACE_SYMBOLS:\n",
    "                    self.legal.add((r, c))\n",
    "                    \n",
    "                elif item in ENDING_POINT_SYMBOLS:\n",
    "                    if self.end is not None:\n",
    "                        raise ValueError(\"Multiple ending points\")\n",
    "                    self.end = (r, c)\n",
    "                    self.legal.add((r, c))\n",
    "        if self.start is None:\n",
    "            raise ValueError(\"No starting point\")\n",
    "     \n",
    "    def format_solution(self, path):\n",
    "        \"\"\"Format a path as a string.\"\"\"\n",
    "        grid = [[OBSTACLE_SYMBOL] * self.w for _ in range(self.h)]\n",
    "        for i, (r, c) in enumerate(path, start=1):\n",
    "            grid[r][c] = i\n",
    "        w = len(str(len(path) + 1)) + 1\n",
    "        return '\\n'.join(''.join(str(item).ljust(w) for item in row)\n",
    "                         for row in grid)\n",
    "    \n",
    "    def solve(self):\n",
    "        \"\"\"Generate solutions as lists of coordinates.\"\"\"\n",
    "        path = [self.start]\n",
    "        dirs = [iter(DIRS)]\n",
    "\n",
    "        # Cache attribute lookups in local variables\n",
    "        path_append = path.append\n",
    "        path_pop = path.pop\n",
    "        legal = self.legal\n",
    "        legal_add = legal.add\n",
    "        legal_remove = legal.remove\n",
    "        dirs_append = dirs.append\n",
    "        dirs_pop = dirs.pop\n",
    "\n",
    "        while path:\n",
    "            r, c = path[-1]\n",
    "            for dr, dc in dirs[-1]:\n",
    "                new_coord = r + dr, c + dc\n",
    "                if new_coord in legal:\n",
    "                    path_append(new_coord)\n",
    "                    legal_remove(new_coord)\n",
    "                    dirs_append(iter(DIRS))\n",
    "                    if not legal:\n",
    "                        yield path\n",
    "                    break\n",
    "            else:\n",
    "                legal_add(path_pop())\n",
    "                dirs_pop()\n",
    "\n",
    "\n",
    "\n",
    "def main(PUZZLE_GRID):\n",
    "    start_time = time.time()\n",
    "    \n",
    "    puzzle = HamiltonSolver(PUZZLE_GRID)\n",
    "    \n",
    "    end = puzzle.end\n",
    "    print(end)\n",
    "    for solution in puzzle.solve():\n",
    "        if solution[-1] == end:\n",
    "            print(puzzle.format_solution(solution))\n",
    "            print(\"Solution with assigned starting and ending points found in {} s\".format(time.time() - start_time))\n",
    "            break\n"
   ]
  },
  {
   "cell_type": "code",
   "execution_count": 40,
   "metadata": {},
   "outputs": [
    {
     "name": "stdout",
     "output_type": "stream",
     "text": [
      "(4, 0)\n",
      "32 31 30 29 28 27 \n",
      "33 6  7  16 17 26 \n",
      "34 5  8  15 18 25 \n",
      "35 4  9  14 19 24 \n",
      "36 3  10 13 20 23 \n",
      "1  2  11 12 21 22 \n",
      "Solution with assigned starting and ending points found in 13.565510034561157 s\n"
     ]
    }
   ],
   "source": [
    "test_example_1 = '''\n",
    "......\n",
    "......\n",
    "......\n",
    "......\n",
    "E.....\n",
    "S.....\n",
    "'''.split()\n",
    "    \n",
    "if __name__ == '__main__':\n",
    "    main(test_example_1)"
   ]
  },
  {
   "cell_type": "code",
   "execution_count": 41,
   "metadata": {},
   "outputs": [
    {
     "name": "stdout",
     "output_type": "stream",
     "text": [
      "(1, 2)\n",
      "3 4 5 6 \n",
      "2 1 8 7 \n",
      "Solution with assigned starting and ending points found in 0.0002949237823486328 s\n"
     ]
    }
   ],
   "source": [
    "# 2 \\times 4\n",
    "test_example_2 = '''\n",
    "....\n",
    ".SE.\n",
    "'''.split()\n",
    "    \n",
    "if __name__ == '__main__':\n",
    "    main(test_example_2)"
   ]
  },
  {
   "cell_type": "code",
   "execution_count": 42,
   "metadata": {},
   "outputs": [
    {
     "name": "stdout",
     "output_type": "stream",
     "text": [
      "(0, 1)\n"
     ]
    }
   ],
   "source": [
    "# 2 \\times 4\n",
    "test_example_3 = '''\n",
    ".E..\n",
    ".S..\n",
    "'''.split()\n",
    "    \n",
    "if __name__ == '__main__':\n",
    "    main(test_example_3)"
   ]
  },
  {
   "cell_type": "code",
   "execution_count": 43,
   "metadata": {},
   "outputs": [
    {
     "name": "stdout",
     "output_type": "stream",
     "text": [
      "(1, 0)\n",
      "7 6 5 4 \n",
      "8 1 2 3 \n",
      "Solution with assigned starting and ending points found in 0.0002753734588623047 s\n"
     ]
    }
   ],
   "source": [
    "# 2 \\times 4\n",
    "test_example_4 = '''\n",
    "....\n",
    "ES..\n",
    "'''.split()\n",
    "    \n",
    "if __name__ == '__main__':\n",
    "    main(test_example_4)"
   ]
  },
  {
   "cell_type": "code",
   "execution_count": 44,
   "metadata": {},
   "outputs": [
    {
     "name": "stdout",
     "output_type": "stream",
     "text": [
      "(2, 2)\n",
      "4  5  8  9  \n",
      "3  6  7  10 \n",
      "2  1  12 11 \n",
      "Solution with assigned starting and ending points found in 0.0005767345428466797 s\n"
     ]
    }
   ],
   "source": [
    "# 3 \\times 4\n",
    "test_example_5 = '''\n",
    "....\n",
    "....\n",
    ".SE.\n",
    "'''.split()\n",
    "    \n",
    "if __name__ == '__main__':\n",
    "    main(test_example_5)"
   ]
  },
  {
   "cell_type": "code",
   "execution_count": 45,
   "metadata": {},
   "outputs": [
    {
     "name": "stdout",
     "output_type": "stream",
     "text": [
      "(1, 1)\n",
      "4  5  6  7  \n",
      "3  12 11 8  \n",
      "2  1  10 9  \n",
      "Solution with assigned starting and ending points found in 0.00040602684020996094 s\n"
     ]
    }
   ],
   "source": [
    "# 3 \\times 4\n",
    "test_example_6 = '''\n",
    "....\n",
    ".E..\n",
    ".S..\n",
    "'''.split()\n",
    "    \n",
    "if __name__ == '__main__':\n",
    "    main(test_example_6)"
   ]
  },
  {
   "cell_type": "code",
   "execution_count": 50,
   "metadata": {},
   "outputs": [
    {
     "name": "stdout",
     "output_type": "stream",
     "text": [
      "(2, 0)\n",
      "10 9  8  7  \n",
      "11 2  3  6  \n",
      "12 1  4  5  \n",
      "Solution with assigned starting and ending points found in 0.00027489662170410156 s\n"
     ]
    }
   ],
   "source": [
    "# 3 \\times 4\n",
    "test_example_6 = '''\n",
    "....\n",
    "....\n",
    "ES..\n",
    "'''.split()\n",
    "    \n",
    "if __name__ == '__main__':\n",
    "    main(test_example_6)"
   ]
  },
  {
   "cell_type": "code",
   "execution_count": 46,
   "metadata": {},
   "outputs": [
    {
     "name": "stdout",
     "output_type": "stream",
     "text": [
      "(5, 1)\n",
      "7  8  17 18 27 28 29 \n",
      "6  9  16 19 26 31 30 \n",
      "5  10 15 20 25 32 33 \n",
      "4  11 14 21 24 35 34 \n",
      "3  12 13 22 23 36 37 \n",
      "2  49 46 45 42 41 38 \n",
      "1  48 47 44 43 40 39 \n",
      "Solution with assigned starting and ending points found in 25.22358775138855 s\n"
     ]
    }
   ],
   "source": [
    "# 7 \\times 7\n",
    "test_example_7 = '''\n",
    ".......\n",
    ".......\n",
    ".......\n",
    ".......\n",
    ".......\n",
    ".E.....\n",
    "S......\n",
    "'''.split()\n",
    "    \n",
    "if __name__ == '__main__':\n",
    "    main(test_example_7)"
   ]
  },
  {
   "cell_type": "code",
   "execution_count": 47,
   "metadata": {},
   "outputs": [
    {
     "name": "stdout",
     "output_type": "stream",
     "text": [
      "(6, 2)\n",
      "7  8  17 18 27 28 29 \n",
      "6  9  16 19 26 31 30 \n",
      "5  10 15 20 25 32 33 \n",
      "4  11 14 21 24 35 34 \n",
      "3  12 13 22 23 36 37 \n",
      "2  47 46 45 42 41 38 \n",
      "1  48 49 44 43 40 39 \n",
      "Solution with assigned starting and ending points found in 24.86819887161255 s\n"
     ]
    }
   ],
   "source": [
    "# 7 \\times 7\n",
    "test_example_8 = '''\n",
    ".......\n",
    ".......\n",
    ".......\n",
    ".......\n",
    ".......\n",
    ".......\n",
    "S.E....\n",
    "'''.split()\n",
    "    \n",
    "if __name__ == '__main__':\n",
    "    main(test_example_8)"
   ]
  },
  {
   "cell_type": "code",
   "execution_count": 48,
   "metadata": {},
   "outputs": [
    {
     "name": "stdout",
     "output_type": "stream",
     "text": [
      "(5, 1)\n"
     ]
    },
    {
     "ename": "KeyboardInterrupt",
     "evalue": "",
     "output_type": "error",
     "traceback": [
      "\u001b[0;31m---------------------------------------------------------------------------\u001b[0m",
      "\u001b[0;31mKeyboardInterrupt\u001b[0m                         Traceback (most recent call last)",
      "\u001b[0;32m<ipython-input-48-d86fb09019ed>\u001b[0m in \u001b[0;36m<module>\u001b[0;34m\u001b[0m\n\u001b[1;32m     10\u001b[0m \u001b[0;34m\u001b[0m\u001b[0m\n\u001b[1;32m     11\u001b[0m \u001b[0;32mif\u001b[0m \u001b[0m__name__\u001b[0m \u001b[0;34m==\u001b[0m \u001b[0;34m'__main__'\u001b[0m\u001b[0;34m:\u001b[0m\u001b[0;34m\u001b[0m\u001b[0;34m\u001b[0m\u001b[0m\n\u001b[0;32m---> 12\u001b[0;31m     \u001b[0mmain\u001b[0m\u001b[0;34m(\u001b[0m\u001b[0mtest_example_9\u001b[0m\u001b[0;34m)\u001b[0m\u001b[0;34m\u001b[0m\u001b[0;34m\u001b[0m\u001b[0m\n\u001b[0m",
      "\u001b[0;32m<ipython-input-38-ebc419ae763f>\u001b[0m in \u001b[0;36mmain\u001b[0;34m(PUZZLE_GRID)\u001b[0m\n\u001b[1;32m     92\u001b[0m     \u001b[0mend\u001b[0m \u001b[0;34m=\u001b[0m \u001b[0mpuzzle\u001b[0m\u001b[0;34m.\u001b[0m\u001b[0mend\u001b[0m\u001b[0;34m\u001b[0m\u001b[0;34m\u001b[0m\u001b[0m\n\u001b[1;32m     93\u001b[0m     \u001b[0mprint\u001b[0m\u001b[0;34m(\u001b[0m\u001b[0mend\u001b[0m\u001b[0;34m)\u001b[0m\u001b[0;34m\u001b[0m\u001b[0;34m\u001b[0m\u001b[0m\n\u001b[0;32m---> 94\u001b[0;31m     \u001b[0;32mfor\u001b[0m \u001b[0msolution\u001b[0m \u001b[0;32min\u001b[0m \u001b[0mpuzzle\u001b[0m\u001b[0;34m.\u001b[0m\u001b[0msolve\u001b[0m\u001b[0;34m(\u001b[0m\u001b[0;34m)\u001b[0m\u001b[0;34m:\u001b[0m\u001b[0;34m\u001b[0m\u001b[0;34m\u001b[0m\u001b[0m\n\u001b[0m\u001b[1;32m     95\u001b[0m         \u001b[0;32mif\u001b[0m \u001b[0msolution\u001b[0m\u001b[0;34m[\u001b[0m\u001b[0;34m-\u001b[0m\u001b[0;36m1\u001b[0m\u001b[0;34m]\u001b[0m \u001b[0;34m==\u001b[0m \u001b[0mend\u001b[0m\u001b[0;34m:\u001b[0m\u001b[0;34m\u001b[0m\u001b[0;34m\u001b[0m\u001b[0m\n\u001b[1;32m     96\u001b[0m             \u001b[0mprint\u001b[0m\u001b[0;34m(\u001b[0m\u001b[0mpuzzle\u001b[0m\u001b[0;34m.\u001b[0m\u001b[0mformat_solution\u001b[0m\u001b[0;34m(\u001b[0m\u001b[0msolution\u001b[0m\u001b[0;34m)\u001b[0m\u001b[0;34m)\u001b[0m\u001b[0;34m\u001b[0m\u001b[0;34m\u001b[0m\u001b[0m\n",
      "\u001b[0;32m<ipython-input-38-ebc419ae763f>\u001b[0m in \u001b[0;36msolve\u001b[0;34m(self)\u001b[0m\n\u001b[1;32m     70\u001b[0m         \u001b[0;32mwhile\u001b[0m \u001b[0mpath\u001b[0m\u001b[0;34m:\u001b[0m\u001b[0;34m\u001b[0m\u001b[0;34m\u001b[0m\u001b[0m\n\u001b[1;32m     71\u001b[0m             \u001b[0mr\u001b[0m\u001b[0;34m,\u001b[0m \u001b[0mc\u001b[0m \u001b[0;34m=\u001b[0m \u001b[0mpath\u001b[0m\u001b[0;34m[\u001b[0m\u001b[0;34m-\u001b[0m\u001b[0;36m1\u001b[0m\u001b[0;34m]\u001b[0m\u001b[0;34m\u001b[0m\u001b[0;34m\u001b[0m\u001b[0m\n\u001b[0;32m---> 72\u001b[0;31m             \u001b[0;32mfor\u001b[0m \u001b[0mdr\u001b[0m\u001b[0;34m,\u001b[0m \u001b[0mdc\u001b[0m \u001b[0;32min\u001b[0m \u001b[0mdirs\u001b[0m\u001b[0;34m[\u001b[0m\u001b[0;34m-\u001b[0m\u001b[0;36m1\u001b[0m\u001b[0;34m]\u001b[0m\u001b[0;34m:\u001b[0m\u001b[0;34m\u001b[0m\u001b[0;34m\u001b[0m\u001b[0m\n\u001b[0m\u001b[1;32m     73\u001b[0m                 \u001b[0mnew_coord\u001b[0m \u001b[0;34m=\u001b[0m \u001b[0mr\u001b[0m \u001b[0;34m+\u001b[0m \u001b[0mdr\u001b[0m\u001b[0;34m,\u001b[0m \u001b[0mc\u001b[0m \u001b[0;34m+\u001b[0m \u001b[0mdc\u001b[0m\u001b[0;34m\u001b[0m\u001b[0;34m\u001b[0m\u001b[0m\n\u001b[1;32m     74\u001b[0m                 \u001b[0;32mif\u001b[0m \u001b[0mnew_coord\u001b[0m \u001b[0;32min\u001b[0m \u001b[0mlegal\u001b[0m\u001b[0;34m:\u001b[0m\u001b[0;34m\u001b[0m\u001b[0;34m\u001b[0m\u001b[0m\n",
      "\u001b[0;31mKeyboardInterrupt\u001b[0m: "
     ]
    }
   ],
   "source": [
    "# 7 \\times 7\n",
    "test_example_9 = '''\n",
    ".......\n",
    ".......\n",
    ".......\n",
    ".......\n",
    ".......\n",
    ".E.....\n",
    ".S.....\n",
    "'''.split()\n",
    "    \n",
    "if __name__ == '__main__':\n",
    "    main(test_example_9)"
   ]
  },
  {
   "cell_type": "code",
   "execution_count": 57,
   "metadata": {},
   "outputs": [
    {
     "name": "stdout",
     "output_type": "stream",
     "text": [
      "(2, 1)\n",
      "3  4  7  8  15 16 17 \n",
      "2  5  6  9  14 19 18 \n",
      "1  46 45 10 13 20 X  \n",
      "42 43 44 11 12 21 22 \n",
      "41 36 35 X  X  24 23 \n",
      "40 37 34 31 30 25 26 \n",
      "39 38 33 32 29 28 27 \n",
      "Solution with assigned starting and ending points found in 14.593115091323853 s\n"
     ]
    }
   ],
   "source": [
    "# with blocks\n",
    "\n",
    "test_example_10 = '''\n",
    ".......\n",
    ".......\n",
    "SE....X\n",
    ".......\n",
    "...XX..\n",
    ".......\n",
    ".......\n",
    "'''.split()\n",
    "    \n",
    "if __name__ == '__main__':\n",
    "    main(test_example_10)"
   ]
  },
  {
   "cell_type": "code",
   "execution_count": null,
   "metadata": {},
   "outputs": [],
   "source": []
  },
  {
   "cell_type": "code",
   "execution_count": null,
   "metadata": {},
   "outputs": [],
   "source": []
  },
  {
   "cell_type": "code",
   "execution_count": null,
   "metadata": {},
   "outputs": [],
   "source": []
  },
  {
   "cell_type": "code",
   "execution_count": null,
   "metadata": {},
   "outputs": [],
   "source": []
  },
  {
   "cell_type": "code",
   "execution_count": null,
   "metadata": {},
   "outputs": [],
   "source": []
  }
 ],
 "metadata": {
  "kernelspec": {
   "display_name": "Python 3",
   "language": "python",
   "name": "python3"
  },
  "language_info": {
   "codemirror_mode": {
    "name": "ipython",
    "version": 3
   },
   "file_extension": ".py",
   "mimetype": "text/x-python",
   "name": "python",
   "nbconvert_exporter": "python",
   "pygments_lexer": "ipython3",
   "version": "3.7.6"
  }
 },
 "nbformat": 4,
 "nbformat_minor": 4
}
