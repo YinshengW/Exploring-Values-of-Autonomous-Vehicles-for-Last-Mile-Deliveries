{
 "cells": [
  {
   "cell_type": "code",
   "execution_count": 214,
   "metadata": {},
   "outputs": [],
   "source": [
    "from gurobipy import *\n",
    "import pandas as pd\n",
    "import math\n",
    "import numpy as np"
   ]
  },
  {
   "cell_type": "code",
   "execution_count": 215,
   "metadata": {},
   "outputs": [],
   "source": [
    "def read_data():\n",
    "    drive_data = pd.read_csv('Adams_100_1_Fastest.csv')\n",
    "\n",
    "    drive_distance = {}\n",
    "    drive_time = {}\n",
    "    arc = drive_data['key'].values\n",
    "    distance = drive_data['Distance'].values\n",
    "    time = drive_data['Time'].values\n",
    "\n",
    "    n = len(arc)\n",
    "    for i in range(0,n):\n",
    "        a = re.sub(\"\\(\" , \"\", arc[i])\n",
    "        a = re.sub(\"\\)\", \"\", a)\n",
    "        a,b = a.split(', ')\n",
    "        drive_distance[(int(a),int(b))]= distance[i]\n",
    "        drive_time[(int(a),int(b))] = time[i]\n",
    "\n",
    "    walk_data = pd.read_csv('Adams_100_1_Walking.csv')\n",
    "\n",
    "    walk_distance = {}\n",
    "    walk_time = {}\n",
    "    arc = walk_data['key'].values\n",
    "    distance = walk_data['Distance'].values\n",
    "    time = walk_data['Time'].values\n",
    "    n = len(arc)\n",
    "    for i in range(0,n):\n",
    "        a = re.sub(\"\\(\" , \"\", arc[i])\n",
    "        a = re.sub(\"\\)\", \"\", a)\n",
    "        a,b = a.split(', ')\n",
    "        walk_distance[(int(a),int(b))]= distance[i]\n",
    "        walk_time[(int(a),int(b))] = time[i]\n",
    "\n",
    "    return int(math.sqrt(n)), drive_distance, drive_time, walk_distance, walk_time\n",
    "\n",
    "\n"
   ]
  },
  {
   "cell_type": "code",
   "execution_count": 216,
   "metadata": {},
   "outputs": [],
   "source": [
    "f = 2.8 # time for loading packages\n",
    "q = 3 # capacity\n",
    "\n",
    "# generate set\n",
    "def serve_set(n):\n",
    "    serve_set = set(())\n",
    "    for i in range(1, n + 1):\n",
    "        serve_set.add((i,))\n",
    "        for j in range(i + 1, n + 1):\n",
    "            serve_set.add((i, j)) # tuple\n",
    "            for k in range(j + 1, n + 1):\n",
    "                serve_set.add((i, j, k))\n",
    "    m = len(serve_set)  # m: number of serve sets\n",
    "    return m, serve_set\n",
    "\n",
    "\n"
   ]
  },
  {
   "cell_type": "code",
   "execution_count": 217,
   "metadata": {},
   "outputs": [],
   "source": [
    "# Testing whether to add the equalities\n",
    "\n",
    "# for Claim 5,6\n",
    "# D(i,k) <= W(i,k) for all i,k \\in C\n",
    "def D_less_equal_than_W(drive_time, walk_time, n):\n",
    "    temp = True\n",
    "    for i in range(1, n+1):\n",
    "        for k in range(1, n+1):\n",
    "            if drive_time[(i, k)]>walk_time[(i,k)]:\n",
    "                temp = False\n",
    "                break\n",
    "        if not temp:\n",
    "            break\n",
    "    return temp\n",
    "\n",
    "# for Corollary 1\n",
    "# Consider i ∈ C. If D(i, k) + f <= W(i, k) and D(k,i)+f <= W(k,i) for all k\\in C\\{i}\n",
    "def D_plus_f_less_equal_than_W(i, drive_time, walk_time, f, n):\n",
    "    temp = True\n",
    "    for k in range(1, n+1):\n",
    "        if k != i:\n",
    "            if drive_time[(i,k)] + f > walk_time[(i,k)]:\n",
    "                temp = False\n",
    "                break\n",
    "            elif drive_time[(k,i)] + f > walk_time[(k,i)]:\n",
    "                temp = False\n",
    "                break\n",
    "    return temp\n",
    "\n",
    "# for Claim 2 \n",
    "# σ ∈ S such that D(i, k) ≤ W(i, k) and D(k,i)≤W(k,i) for all i∈σ and k∈C\n",
    "def D_less_equal_than_W_for_i_in_sigma(sigma, drive_time, walk_time, n):\n",
    "    temp = True\n",
    "    for i in sigma:\n",
    "        for k in range(1, n+1):\n",
    "            if drive_time[(i, k)] > walk_time[(i,k)]:\n",
    "                temp = False\n",
    "            elif drive_time[(k, i)] > walk_time[(k,i)]:\n",
    "                temp = False\n",
    "    return temp"
   ]
  },
  {
   "cell_type": "code",
   "execution_count": 218,
   "metadata": {},
   "outputs": [],
   "source": [
    "def find_shortest_time(i, sigma, k):\n",
    "    if len(sigma) == 1:\n",
    "        w1 = walk_time[(i, sigma[0])] + walk_time[(sigma[0], k)]\n",
    "        min_w = w1\n",
    "        \n",
    "    elif len(sigma) == 2:\n",
    "        inx_order_list = [(0,1), (1,0)]\n",
    "    \n",
    "        w1 = walk_time[(i, sigma[0])] + walk_time[(sigma[0], sigma[1])] + walk_time[(sigma[1], k)]\n",
    "        w2 = walk_time[(i, sigma[1])] + walk_time[(sigma[1], sigma[0])] + walk_time[(sigma[0], k)]\n",
    "        \n",
    "        min_w = np.min([w1,w2])\n",
    "        \n",
    "    elif len(sigma) == 3:\n",
    "        inx_order_list = [(0,1,2),(0,2,1),(1,0,2),(1,2,0),(2,0,1),(2,1,0)]\n",
    "\n",
    "        w1 = walk_time[(i, sigma[0])] + walk_time[(sigma[0], sigma[1])] + walk_time[(sigma[1], sigma[2])] + walk_time[(sigma[2], k)]\n",
    "        w2 = walk_time[(i, sigma[0])] + walk_time[(sigma[0], sigma[2])] + walk_time[(sigma[2], sigma[1])] + walk_time[(sigma[1], k)]\n",
    "        w3 = walk_time[(i, sigma[1])] + walk_time[(sigma[1], sigma[0])] + walk_time[(sigma[0], sigma[2])] + walk_time[(sigma[2], k)]\n",
    "        w4 = walk_time[(i, sigma[1])] + walk_time[(sigma[1], sigma[2])] + walk_time[(sigma[2], sigma[0])] + walk_time[(sigma[0], k)]\n",
    "        w5 = walk_time[(i, sigma[2])] + walk_time[(sigma[2], sigma[0])] + walk_time[(sigma[0], sigma[1])] + walk_time[(sigma[1], k)]\n",
    "        w6 = walk_time[(i, sigma[2])] + walk_time[(sigma[2], sigma[1])] + walk_time[(sigma[1], sigma[0])] + walk_time[(sigma[0], k)]\n",
    "\n",
    "        min_w = np.min([w1, w2, w3, w4, w5, w6])\n",
    "        \n",
    "    return min_w\n",
    "\n",
    "def find_shortest_path(i, sigma, k):\n",
    "    if len(sigma) == 1:\n",
    "        c_first = sigma[0]\n",
    "        c_last = sigma[0]\n",
    "    elif len(sigma) == 2:\n",
    "        inx_order_list = [(0,1), (1,0)]\n",
    "        \n",
    "        w1 = walk_time[(i, sigma[0])] + walk_time[(sigma[0], sigma[1])] + walk_time[(sigma[1], k)]\n",
    "        w2 = walk_time[(i, sigma[1])] + walk_time[(sigma[1], sigma[0])] + walk_time[(sigma[0], k)]\n",
    "        \n",
    "        temp_tuple = inx_order_list[np.argmin([w1,w2])]\n",
    "        c_first = sigma[temp_tuple[0]]\n",
    "        c_last = sigma[temp_tuple[1]]\n",
    "        \n",
    "    elif len(sigma) == 3:\n",
    "        inx_order_list = [(0,1,2),(0,2,1),(1,0,2),(1,2,0),(2,0,1),(2,1,0)]\n",
    "        \n",
    "        w1 = walk_time[(i, sigma[0])] + walk_time[(sigma[0], sigma[1])] + walk_time[(sigma[1], sigma[2])] + walk_time[(sigma[2], k)]\n",
    "        w2 = walk_time[(i, sigma[0])] + walk_time[(sigma[0], sigma[2])] + walk_time[(sigma[2], sigma[1])] + walk_time[(sigma[1], k)]\n",
    "        w3 = walk_time[(i, sigma[1])] + walk_time[(sigma[1], sigma[0])] + walk_time[(sigma[0], sigma[2])] + walk_time[(sigma[2], k)]\n",
    "        w4 = walk_time[(i, sigma[1])] + walk_time[(sigma[1], sigma[2])] + walk_time[(sigma[2], sigma[0])] + walk_time[(sigma[0], k)]\n",
    "        w5 = walk_time[(i, sigma[2])] + walk_time[(sigma[2], sigma[0])] + walk_time[(sigma[0], sigma[1])] + walk_time[(sigma[1], k)]\n",
    "        w6 = walk_time[(i, sigma[2])] + walk_time[(sigma[2], sigma[1])] + walk_time[(sigma[1], sigma[0])] + walk_time[(sigma[0], k)]\n",
    "\n",
    "        temp_tuple = inx_order_list[np.argmin([w1, w2, w3, w4, w5, w6])]\n",
    "        c_first = sigma[temp_tuple[0]]\n",
    "        c_last = sigma[temp_tuple[2]]\n",
    "        \n",
    "    return c_first, c_last\n",
    "\n",
    "# compute w_i_sigma_k\n",
    "def w_with_set(serve_list, walk_time, n):\n",
    "    w = {}\n",
    "    for i in range(1, n + 1):\n",
    "        for k in range(1, n + 1):\n",
    "            for sigma in serve_list:\n",
    "                index = serve_list.index(sigma)\n",
    "                w[(i,index,k)] = find_shortest_time(i, sigma, k)            \n",
    "    return w\n",
    "\n"
   ]
  },
  {
   "cell_type": "code",
   "execution_count": 219,
   "metadata": {},
   "outputs": [],
   "source": [
    "def compare_d_w(w, drive_time):\n",
    "    wait_time = {}\n",
    "    for w_route , w_time in w.items():\n",
    "        d_time = drive_time[(w_route[0],w_route[2])]\n",
    "        wait_time[w_route] = max(d_time - w_time,0)\n",
    "    return wait_time\n"
   ]
  },
  {
   "cell_type": "code",
   "execution_count": 220,
   "metadata": {},
   "outputs": [],
   "source": [
    "# n: number of costumers, not include depot\n",
    "n, drive_distance, drive_time, walk_distance, walk_time = read_data()"
   ]
  },
  {
   "cell_type": "code",
   "execution_count": 200,
   "metadata": {},
   "outputs": [],
   "source": [
    "n = 20"
   ]
  },
  {
   "cell_type": "code",
   "execution_count": 201,
   "metadata": {},
   "outputs": [],
   "source": [
    "# serve set\n",
    "m, serve_set = serve_set(n)  # m: |S|, length of serve_set\n",
    "serve_list = list(serve_set)"
   ]
  },
  {
   "cell_type": "code",
   "execution_count": 202,
   "metadata": {},
   "outputs": [],
   "source": [
    "#  w_i_sigma_k，这一步挺慢的\n",
    "w_with_set = w_with_set(serve_list, walk_time, n)"
   ]
  },
  {
   "cell_type": "code",
   "execution_count": 203,
   "metadata": {},
   "outputs": [],
   "source": [
    "# max term in obj function\n",
    "wait_time = compare_d_w(w_with_set, drive_time)"
   ]
  },
  {
   "cell_type": "code",
   "execution_count": 204,
   "metadata": {},
   "outputs": [
    {
     "name": "stdout",
     "output_type": "stream",
     "text": [
      "Changed value of parameter Timelimit to 3600.0\n",
      "   Prev: inf  Min: 0.0  Max: inf  Default: inf\n"
     ]
    }
   ],
   "source": [
    "model = Model(\"mip\")\n",
    "# setParam, not sure 先这么写了\n",
    "model.setParam('Timelimit', 3600)\n",
    "\n"
   ]
  },
  {
   "cell_type": "code",
   "execution_count": 205,
   "metadata": {},
   "outputs": [],
   "source": [
    "\n",
    "# add variables\n",
    "x = {}\n",
    "for i in range(n+1):\n",
    "    for k in range(n+1):\n",
    "        name = 'x_' + str(i) + '_' + str(k)\n",
    "        x[i,k] = model.addVar(vtype=GRB.BINARY, name=name)\n",
    "\n",
    "y = {}\n",
    "for i in range(1,n+1):\n",
    "    for s_id in range(m):\n",
    "        for k in range(1,n+1):\n",
    "            name = 'y_' + str(i) + '_' + str(serve_list[s_id]) + '_' + str(k)\n",
    "            y[i,s_id,k] = model.addVar(vtype=GRB.BINARY, name=name)\n",
    "\n",
    "v = {}\n",
    "for i in range(n+1):\n",
    "    for k in range(1,n+1):\n",
    "        if i != k:\n",
    "            name = 'v_' + str(i) + '_' + str(k)\n",
    "            v[i,k] = model.addVar(lb = 0, vtype=GRB.INTEGER, name=name) # not sure include n\n",
    "\n",
    "\n"
   ]
  },
  {
   "cell_type": "code",
   "execution_count": 206,
   "metadata": {},
   "outputs": [],
   "source": [
    "# objective function\n",
    "obj = LinExpr(0)\n",
    "\n",
    "for i in range(n+1):\n",
    "    for k in range(n+1):\n",
    "        if i != k:\n",
    "            obj.add(x[i,k]*drive_time[(i,k)])\n",
    "\n",
    "for i in range(1,n+1):\n",
    "    for k in range(1,n+1):\n",
    "        for sigma in serve_list:\n",
    "            index = serve_list.index(sigma)\n",
    "            obj.add(y[i,index,k] * (f + w_with_set[(i, index, k)] + wait_time[(i, index, k)]))\n",
    "\n",
    "model.setObjective(obj, GRB.MINIMIZE)\n"
   ]
  },
  {
   "cell_type": "code",
   "execution_count": 207,
   "metadata": {},
   "outputs": [
    {
     "data": {
      "text/plain": [
       "<gurobi.Constr *Awaiting Model Update*>"
      ]
     },
     "execution_count": 207,
     "metadata": {},
     "output_type": "execute_result"
    }
   ],
   "source": [
    "# Constraints\n",
    "\n",
    "for i in range(n+1):\n",
    "    model.addConstr(x[i,i] == 0,  name= 'Constraint 1_'+str(i))\n",
    "\n",
    "\n",
    "# Constraint 2\n",
    "obj_c_2 = LinExpr(0)\n",
    "for i in range(1,n+1):\n",
    "    obj_c_2.add(x[i,0])\n",
    "model.addConstr(obj_c_2 == 1,  name= 'Constraint 2')\n",
    "\n",
    "# Constraint 3\n",
    "obj_c_3 = LinExpr(0)\n",
    "for i in range(1,n+1):\n",
    "    obj_c_3.add(x[0,i])\n",
    "model.addConstr(obj_c_3 == 1,  name= 'Constraint 3')\n"
   ]
  },
  {
   "cell_type": "code",
   "execution_count": 208,
   "metadata": {},
   "outputs": [],
   "source": [
    "# Constraint 4\n",
    "for l in range(1,n+1):\n",
    "    obj_c_4 = LinExpr(0)\n",
    "    for i in range(1, n + 1):\n",
    "        for k in range(1, n + 1):\n",
    "            for sigma in serve_list:\n",
    "                if l in sigma:\n",
    "                    index = serve_list.index(sigma)\n",
    "                    obj_c_4.add(y[i,index,k])\n",
    "    model.addConstr(obj_c_4 == 1,  name= 'Constraint 4_'+str(l))\n",
    "\n",
    "# Constraint 5\n",
    "for i in range(1,n+1):\n",
    "    obj_c_5_1 = LinExpr(0)\n",
    "    for k in range(1, n + 1):\n",
    "        for s_id in range(len(serve_list)):\n",
    "            obj_c_5_1.add(y[i,s_id,k])\n",
    "    obj_c_5_2 = LinExpr(0)\n",
    "    for l in range(n + 1):\n",
    "        obj_c_5_2.add(x[l,i])\n",
    "    model.addConstr(obj_c_5_1 == obj_c_5_2,  name= 'Constraint 5_'+str(i))\n",
    "\n",
    "# Constraint 6\n",
    "for k in range(1,n+1):\n",
    "    obj_c_6_1 = LinExpr(0)\n",
    "    for i in range(1, n + 1):\n",
    "        for s_id in range(len(serve_list)):\n",
    "            obj_c_6_1.add(y[i,s_id,k])\n",
    "    obj_c_6_2 = LinExpr(0)\n",
    "    for l in range(n + 1):\n",
    "        obj_c_6_2.add(x[k,l])\n",
    "    model.addConstr(obj_c_6_1 == obj_c_6_2,  name= 'Constraint 6_'+str(k))"
   ]
  },
  {
   "cell_type": "code",
   "execution_count": 209,
   "metadata": {},
   "outputs": [
    {
     "data": {
      "text/plain": [
       "<gurobi.Constr *Awaiting Model Update*>"
      ]
     },
     "execution_count": 209,
     "metadata": {},
     "output_type": "execute_result"
    }
   ],
   "source": [
    "# Constraint 7\n",
    "obj_c_7 = LinExpr(0)\n",
    "for k in range(1,n+1):\n",
    "    obj_c_7.add(v[0,k])\n",
    "model.addConstr(obj_c_7 == n,  name= 'Constraint 7')"
   ]
  },
  {
   "cell_type": "code",
   "execution_count": 210,
   "metadata": {},
   "outputs": [],
   "source": [
    "# Constraint 8\n",
    "for i in range(1,n+1):\n",
    "    model.addConstr(v[0,i] <= n * x[0,i],  name= 'Constraint 8_'+str(i))"
   ]
  },
  {
   "cell_type": "code",
   "execution_count": 211,
   "metadata": {},
   "outputs": [],
   "source": [
    "# Constraint 9\n",
    "for i in range(1,n+1):\n",
    "    for k in range(1, n + 1):\n",
    "        if i != k:\n",
    "            obj_c_9 = LinExpr(0)\n",
    "            for s_id in range(len(serve_list)):\n",
    "                obj_c_9.add(y[i,s_id,k])\n",
    "            model.addConstr((obj_c_9 + x[i,k]) * n >= v[i,k], name='Constraint 9_'+str(i)+'_'+str(k))\n",
    "            "
   ]
  },
  {
   "cell_type": "code",
   "execution_count": 212,
   "metadata": {},
   "outputs": [],
   "source": [
    "\n",
    "# Constraint 10\n",
    "for i in range(1,n+1):\n",
    "    obj_c_10 = LinExpr(0)\n",
    "    # first term\n",
    "    for k in range(n+1):\n",
    "        if i != k:\n",
    "            obj_c_10.add(v[k, i])\n",
    "    # second term\n",
    "    for k in range(1,n+1):\n",
    "        if i != k:\n",
    "            obj_c_10.add(-v[i, k])\n",
    "    # third term\n",
    "    for k in range(1,n+1):\n",
    "        obj_c_10.add(-x[i, k])\n",
    "    # forth term\n",
    "    for k in range(1,n+1):\n",
    "        for sigma in serve_list:\n",
    "            index = serve_list.index(sigma)\n",
    "            obj_c_10.add(-(len(sigma)-1)*y[i,index,k])\n",
    "    model.addConstr(obj_c_10 == 0, name='Constraint 10_'+str(i))\n"
   ]
  },
  {
   "cell_type": "code",
   "execution_count": null,
   "metadata": {},
   "outputs": [],
   "source": [
    "'''\n",
    "# Service Set Reduction\n",
    "\n",
    "# Corollary 1\n",
    "for i in range(1,n+1):\n",
    "    if D_plus_f_less_equal_than_W(i, drive_time, walk_time, f, n):\n",
    "        obj_claim_1_ki = LinExpr(0)\n",
    "        obj_claim_1_ik = LinExpr(0)\n",
    "        for k in range(n+1):\n",
    "            obj_claim_1_ki.add(x[k,i])\n",
    "            obj_claim_1_ik.add(x[i,k])     \n",
    "        model.addConstr( obj_claim_1_ki == 1, name='Claim 1_ki_'+str(i))\n",
    "        model.addConstr( obj_claim_1_ik == 1, name='Claim 1_ik_'+str(i))\n",
    "'''        \n"
   ]
  },
  {
   "cell_type": "code",
   "execution_count": 120,
   "metadata": {},
   "outputs": [],
   "source": [
    "# Variable Reduction\n",
    "'''\n",
    "# Claim 2\n",
    "for sigma in serve_list:\n",
    "    index = serve_list.index(sigma)\n",
    "    if D_less_equal_than_W_for_i_in_sigma(sigma, drive_time, walk_time, n):\n",
    "        for i in range(1,n+1):\n",
    "            for k in range(1,n+1):\n",
    "                if (i not in sigma) or (k not in sigma):\n",
    "                    model.addConstr( y[i,index,k] == 0, name='Claim 2_'+str(i) +str(k)+str(index))\n",
    "'''"
   ]
  },
  {
   "cell_type": "code",
   "execution_count": 121,
   "metadata": {},
   "outputs": [],
   "source": [
    " # Claim 3\n",
    "'''\n",
    "for sigma in serve_list:\n",
    "    index = serve_list.index(sigma)\n",
    "    for i in range(1,n+1):\n",
    "        for k in range(1,n+1):\n",
    "            c_first, c_last = find_shortest_path(i, sigma, k)\n",
    "            if (walk_time[(i,c_first)] - drive_time[(i,c_first)]) >= wait_time[(c_first, index, k)]:\n",
    "                model.addConstr( y[i,index,k] == 0, name='Claim 3_'+str(i) +str(k)+str(index))\n",
    "\n",
    "'''\n"
   ]
  },
  {
   "cell_type": "code",
   "execution_count": null,
   "metadata": {},
   "outputs": [],
   "source": [
    "# Claim 4\n",
    "'''\n",
    "for sigma in serve_list:\n",
    "    index = serve_list.index(sigma)\n",
    "    for i in range(1,n+1):\n",
    "        for k in range(1,n+1):\n",
    "            c_first, c_last = find_shortest_path(i, sigma, k)\n",
    "            if (walk_time[(c_last,k)] - drive_time[(c_last,k)]) >= wait_time[(i, index, c_last)]:\n",
    "                model.addConstr( y[i,index,k] == 0, name='Claim 4_'+str(i) +str(k)+str(index))\n",
    "'''"
   ]
  },
  {
   "cell_type": "code",
   "execution_count": 100,
   "metadata": {},
   "outputs": [
    {
     "name": "stdout",
     "output_type": "stream",
     "text": [
      "Claim 5 and Claim 6 should be incorported is  True\n"
     ]
    }
   ],
   "source": [
    "'''\n",
    "print(\"Claim 5 and Claim 6 should be incorported is \",D_less_equal_than_W(drive_time, walk_time, n))\n",
    "'''"
   ]
  },
  {
   "cell_type": "code",
   "execution_count": 101,
   "metadata": {},
   "outputs": [],
   "source": [
    "'''\n",
    "# Added valid inequalities\n",
    "# Only for D(i,k)<=W(i,k) \n",
    "\n",
    "# Claim 5\n",
    "for i in range(1,n+1):\n",
    "    for k in range(1, n+1):\n",
    "        if i != k:\n",
    "            obj_claim_5 = LinExpr(0)\n",
    "                \n",
    "            J_ik_idx = [ idx for idx in range(len(serve_list)) if (i in serve_list[idx]) and (k in serve_list[idx]) ]\n",
    "            \n",
    "            for s_id in J_ik_idx:\n",
    "                for a in range(1,n+1):\n",
    "                    for b in range(1, n+1):\n",
    "                        obj_claim_5.add(y[a,s_id,b])\n",
    "            model.addConstr( obj_claim_5 + x[i,k] <= 1, name='Claim 5_'+str(i)+'_'+str(k))\n",
    "\n",
    "# Claim 6\n",
    "for i in range(1,n+1):\n",
    "    for k in range(1, n+1):\n",
    "        if i < k:\n",
    "            obj_claim_6 = LinExpr(0)\n",
    "            for s_id in range(len(serve_list)):\n",
    "                obj_claim_6.add(y[k,s_id,i] + y[i,s_id,k])\n",
    "            model.addConstr( obj_claim_6 + x[i,k] + x[k,i] <= 1, name='Claim 6_'+str(i)+'_'+str(k))\n",
    "\n",
    "'''"
   ]
  },
  {
   "cell_type": "code",
   "execution_count": 213,
   "metadata": {},
   "outputs": [
    {
     "name": "stdout",
     "output_type": "stream",
     "text": [
      "Gurobi Optimizer version 9.0.2 build v9.0.2rc0 (mac64)\n",
      "Optimize a model with 504 rows, 540841 columns and 3655901 nonzeros\n",
      "Model fingerprint: 0xefac00fa\n",
      "Variable types: 0 continuous, 540841 integer (540441 binary)\n",
      "Coefficient statistics:\n",
      "  Matrix range     [1e+00, 2e+01]\n",
      "  Objective range  [2e-02, 1e+02]\n",
      "  Bounds range     [1e+00, 2e+01]\n",
      "  RHS range        [1e+00, 2e+01]\n",
      "Presolve removed 41 rows and 41 columns (presolve time = 5s) ...\n",
      "Presolve removed 41 rows and 41 columns\n",
      "Presolve time: 5.10s\n",
      "Presolved: 463 rows, 540800 columns, 3655780 nonzeros\n",
      "Variable types: 0 continuous, 540800 integer (540420 binary)\n",
      "\n",
      "Root simplex log...\n",
      "\n",
      "Iteration    Objective       Primal Inf.    Dual Inf.      Time\n",
      "       0    0.0000000e+00   2.900000e+01   0.000000e+00     13s\n",
      "\n",
      "Starting sifting (using dual simplex for sub-problems)...\n",
      "\n",
      "    Iter     Pivots    Primal Obj      Dual Obj        Time\n",
      "       0          0     infinity      0.0000000e+00     13s\n",
      "\n",
      "Sifting complete\n",
      "\n",
      "\n",
      "Root relaxation: infeasible, 350 iterations, 0.30 seconds\n",
      "\n",
      "    Nodes    |    Current Node    |     Objective Bounds      |     Work\n",
      " Expl Unexpl |  Obj  Depth IntInf | Incumbent    BestBd   Gap | It/Node Time\n",
      "\n",
      "     0     0 infeasible    0               - infeasible      -     -   13s\n",
      "\n",
      "Explored 0 nodes (350 simplex iterations) in 13.41 seconds\n",
      "Thread count was 12 (of 12 available processors)\n",
      "\n",
      "Solution count 0\n",
      "\n",
      "Model is infeasible\n",
      "Best objective -, best bound -, gap -\n",
      "\n",
      "\n",
      " optimal value:\n"
     ]
    },
    {
     "ename": "AttributeError",
     "evalue": "Unable to retrieve attribute 'ObjVal'",
     "output_type": "error",
     "traceback": [
      "\u001b[0;31m---------------------------------------------------------------------------\u001b[0m",
      "\u001b[0;31mAttributeError\u001b[0m                            Traceback (most recent call last)",
      "\u001b[0;32m<ipython-input-213-f4177ce492b7>\u001b[0m in \u001b[0;36m<module>\u001b[0;34m\u001b[0m\n\u001b[1;32m      2\u001b[0m \u001b[0;34m\u001b[0m\u001b[0m\n\u001b[1;32m      3\u001b[0m \u001b[0mprint\u001b[0m\u001b[0;34m(\u001b[0m\u001b[0;34m\"\\n\\n optimal value:\"\u001b[0m\u001b[0;34m)\u001b[0m\u001b[0;34m\u001b[0m\u001b[0;34m\u001b[0m\u001b[0m\n\u001b[0;32m----> 4\u001b[0;31m \u001b[0mprint\u001b[0m\u001b[0;34m(\u001b[0m\u001b[0mmodel\u001b[0m\u001b[0;34m.\u001b[0m\u001b[0mObjVal\u001b[0m\u001b[0;34m)\u001b[0m\u001b[0;34m\u001b[0m\u001b[0;34m\u001b[0m\u001b[0m\n\u001b[0m",
      "\u001b[0;32mmodel.pxi\u001b[0m in \u001b[0;36mgurobipy.Model.__getattr__\u001b[0;34m()\u001b[0m\n",
      "\u001b[0;32mmodel.pxi\u001b[0m in \u001b[0;36mgurobipy.Model.getAttr\u001b[0;34m()\u001b[0m\n",
      "\u001b[0;32mattrutil.pxi\u001b[0m in \u001b[0;36mgurobipy.__getattr\u001b[0;34m()\u001b[0m\n",
      "\u001b[0;31mAttributeError\u001b[0m: Unable to retrieve attribute 'ObjVal'"
     ]
    }
   ],
   "source": [
    "model.optimize()\n",
    "\n",
    "print(\"\\n\\n optimal value:\")\n",
    "print(model.ObjVal)"
   ]
  },
  {
   "cell_type": "code",
   "execution_count": null,
   "metadata": {},
   "outputs": [],
   "source": []
  },
  {
   "cell_type": "code",
   "execution_count": null,
   "metadata": {},
   "outputs": [],
   "source": []
  },
  {
   "cell_type": "code",
   "execution_count": null,
   "metadata": {},
   "outputs": [],
   "source": []
  }
 ],
 "metadata": {
  "kernelspec": {
   "display_name": "Python 3",
   "language": "python",
   "name": "python3"
  },
  "language_info": {
   "codemirror_mode": {
    "name": "ipython",
    "version": 3
   },
   "file_extension": ".py",
   "mimetype": "text/x-python",
   "name": "python",
   "nbconvert_exporter": "python",
   "pygments_lexer": "ipython3",
   "version": "3.7.6"
  }
 },
 "nbformat": 4,
 "nbformat_minor": 4
}
